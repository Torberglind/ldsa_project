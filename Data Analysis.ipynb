{
 "cells": [
  {
   "cell_type": "code",
   "execution_count": 310,
   "metadata": {},
   "outputs": [],
   "source": [
    "# from utils import hdf5_getters\n",
    "import os\n",
    "from pyspark.sql import SparkSession\n",
    "from pyspark.sql import SQLContext\n",
    "from pyspark.sql.types import *\n",
    "from pyspark.sql import Row\n",
    "from collections import OrderedDict\n",
    "from pyspark import SparkFiles\n",
    "from tables import *\n",
    "# import pydoop\n",
    "\n",
    "spark_session = SparkSession\\\n",
    "                .builder\\\n",
    "                .master(\"spark://192.168.1.16:7077\") \\\n",
    "                .appName(\"Cluster Data Analysis\")\\\n",
    "                .config(\"spark.submit.deployMode\", \"client\")\\\n",
    "                .config(\"spark.dynamicAllocation.enabled\", \"false\")\\\n",
    "                .config(\"spark.cores.max\", \"4\")\\\n",
    "                .config(\"spark.dynamicAllocation.enabled\", \"false\")\\\n",
    "                .config(\"spark.executor.memory\", \"1g\")\\\n",
    "                .getOrCreate()\n",
    "\n",
    "spark_context = spark_session.sparkContext\n",
    "spark_context.addPyFile(\"utils/hdf5_getters.py\")\n",
    "# spark_session.sparkContext.addPyFile(\"utils/hdf5_getters.py\")\n",
    "sqlContext = SQLContext(spark_session)"
   ]
  },
  {
   "cell_type": "code",
   "execution_count": 311,
   "metadata": {},
   "outputs": [],
   "source": [
    "# def recursive_file_search(rootDir, songs):\n",
    "#     for lists in os.listdir(rootDir):\n",
    "#         path = os.path.join(rootDir, lists)\n",
    "#         if os.path.isdir(path):\n",
    "#             recursive_file_search(path, songs)\n",
    "#         else:\n",
    "#             songs.append(str(path))"
   ]
  },
  {
   "cell_type": "code",
   "execution_count": 312,
   "metadata": {},
   "outputs": [],
   "source": [
    "# def recursive_file_search(rootDir, songs):\n",
    "#     for lists in rootDir:\n",
    "#         path = hpath.path.join(rootDir, lists)\n",
    "#         if hpath.path.isdir(path):\n",
    "#             recursive_file_search(path, songs)\n",
    "#         else:\n",
    "#             songs.append(str(path))\n",
    "def recursive_file_search(rootDir, songs):\n",
    "    for lists in rootDir:\n",
    "        print(lists)\n",
    "#         path = path.join(rootDir, lists)\n",
    "#         if hpath.path.isdir(path):\n",
    "#             recursive_file_search(path, songs)\n",
    "#         else:\n",
    "#             songs.append(str(path))"
   ]
  },
  {
   "cell_type": "code",
   "execution_count": 313,
   "metadata": {},
   "outputs": [],
   "source": [
    "def open_h5_file_read(h5filename):\n",
    "    \"\"\"\n",
    "    Open an existing H5 in read mode.\n",
    "    Same function as in hdf5_utils, here so we avoid one import\n",
    "    \"\"\"\n",
    "    return tables.open_file(h5filename, mode='r')\n",
    "\n",
    "def get_song_id(h5,songidx=0):\n",
    "    \"\"\"\n",
    "    Get song id from a HDF5 song file, by default the first song in it\n",
    "    \"\"\"\n",
    "    return h5.root.metadata.songs.cols.song_id[songidx]\n",
    "\n",
    "def get_artist_name(h5,songidx=0):\n",
    "    \"\"\"\n",
    "    Get artist name from a HDF5 song file, by default the first song in it\n",
    "    \"\"\"\n",
    "    return h5.root.metadata.songs.cols.artist_name[songidx]\n",
    "\n",
    "def get_title(h5,songidx=0):\n",
    "    \"\"\"\n",
    "    Get title from a HDF5 song file, by default the first song in it\n",
    "    \"\"\"\n",
    "    return h5.root.metadata.songs.cols.title[songidx]\n",
    "\n",
    "def get_loudness(h5,songidx=0):\n",
    "    \"\"\"\n",
    "    Get loudness from a HDF5 song file, by default the first song in it\n",
    "    \"\"\"\n",
    "    return h5.root.analysis.songs.cols.loudness[songidx]\n",
    "\n",
    "def get_year(h5,songidx=0):\n",
    "    \"\"\"\n",
    "    Get release year from a HDF5 song file, by default the first song in it\n",
    "    \"\"\"\n",
    "    return h5.root.musicbrainz.songs.cols.year[songidx]\n",
    "\n",
    "def get_tempo(h5,songidx=0):\n",
    "    \"\"\"\n",
    "    Get tempo from a HDF5 song file, by default the first song in it\n",
    "    \"\"\"\n",
    "    return h5.root.analysis.songs.cols.tempo[songidx]\n",
    "\n",
    "def get_danceability(h5,songidx=0):\n",
    "    \"\"\"\n",
    "    Get danceability from a HDF5 song file, by default the first song in it\n",
    "    \"\"\"\n",
    "    return h5.root.analysis.songs.cols.danceability[songidx]\n",
    "\n",
    "def get_artist_mbtags(h5,songidx=0):\n",
    "    \"\"\"\n",
    "    Get artist musicbrainz tag array. Takes care of the proper indexing if we are in aggregate\n",
    "    file. By default, return the array for the first song in the h5 file.\n",
    "    To get a regular numpy ndarray, cast the result to: numpy.array( )\n",
    "    \"\"\"\n",
    "    if h5.root.musicbrainz.songs.nrows == songidx + 1:\n",
    "        return h5.root.musicbrainz.artist_mbtags[h5.root.musicbrainz.songs.cols.idx_artist_mbtags[songidx]:]\n",
    "    return h5.root.musicbrainz.artist_mbtags[h5.root.metadata.songs.cols.idx_artist_mbtags[songidx]:\n",
    "                                             h5.root.metadata.songs.cols.idx_artist_mbtags[songidx+1]]"
   ]
  },
  {
   "cell_type": "code",
   "execution_count": 317,
   "metadata": {},
   "outputs": [
    {
     "ename": "KeyboardInterrupt",
     "evalue": "",
     "output_type": "error",
     "traceback": [
      "\u001b[0;31m---------------------------------------------------------------------------\u001b[0m",
      "\u001b[0;31mKeyboardInterrupt\u001b[0m                         Traceback (most recent call last)",
      "\u001b[0;32m<ipython-input-317-ea8ee8751d9d>\u001b[0m in \u001b[0;36m<module>\u001b[0;34m()\u001b[0m\n\u001b[1;32m      4\u001b[0m \u001b[0mtext_file\u001b[0m \u001b[0;34m=\u001b[0m \u001b[0mspark_context\u001b[0m\u001b[0;34m.\u001b[0m\u001b[0mtextFile\u001b[0m\u001b[0;34m(\u001b[0m\u001b[0mmypath\u001b[0m\u001b[0;34m)\u001b[0m\u001b[0;34m\u001b[0m\u001b[0m\n\u001b[1;32m      5\u001b[0m \u001b[0;34m\u001b[0m\u001b[0m\n\u001b[0;32m----> 6\u001b[0;31m \u001b[0mtext_file\u001b[0m\u001b[0;34m.\u001b[0m\u001b[0mmap\u001b[0m\u001b[0;34m(\u001b[0m\u001b[0;32mlambda\u001b[0m \u001b[0mx\u001b[0m\u001b[0;34m:\u001b[0m \u001b[0mx\u001b[0m\u001b[0;34m.\u001b[0m\u001b[0mjoin\u001b[0m\u001b[0;34m(\u001b[0m\u001b[0;34m','\u001b[0m\u001b[0;34m)\u001b[0m\u001b[0;34m)\u001b[0m\u001b[0;34m.\u001b[0m\u001b[0mtake\u001b[0m\u001b[0;34m(\u001b[0m\u001b[0;36m10\u001b[0m\u001b[0;34m)\u001b[0m\u001b[0;34m\u001b[0m\u001b[0m\n\u001b[0m\u001b[1;32m      7\u001b[0m \u001b[0;31m#map(lambda x: hdf5_getters.open_h5_file_read(x)).take(10)\u001b[0m\u001b[0;34m\u001b[0m\u001b[0;34m\u001b[0m\u001b[0m\n\u001b[1;32m      8\u001b[0m \u001b[0;34m\u001b[0m\u001b[0m\n",
      "\u001b[0;32m/usr/local/lib/python3.6/dist-packages/pyspark/rdd.py\u001b[0m in \u001b[0;36mtake\u001b[0;34m(self, num)\u001b[0m\n\u001b[1;32m   1356\u001b[0m \u001b[0;34m\u001b[0m\u001b[0m\n\u001b[1;32m   1357\u001b[0m             \u001b[0mp\u001b[0m \u001b[0;34m=\u001b[0m \u001b[0mrange\u001b[0m\u001b[0;34m(\u001b[0m\u001b[0mpartsScanned\u001b[0m\u001b[0;34m,\u001b[0m \u001b[0mmin\u001b[0m\u001b[0;34m(\u001b[0m\u001b[0mpartsScanned\u001b[0m \u001b[0;34m+\u001b[0m \u001b[0mnumPartsToTry\u001b[0m\u001b[0;34m,\u001b[0m \u001b[0mtotalParts\u001b[0m\u001b[0;34m)\u001b[0m\u001b[0;34m)\u001b[0m\u001b[0;34m\u001b[0m\u001b[0m\n\u001b[0;32m-> 1358\u001b[0;31m             \u001b[0mres\u001b[0m \u001b[0;34m=\u001b[0m \u001b[0mself\u001b[0m\u001b[0;34m.\u001b[0m\u001b[0mcontext\u001b[0m\u001b[0;34m.\u001b[0m\u001b[0mrunJob\u001b[0m\u001b[0;34m(\u001b[0m\u001b[0mself\u001b[0m\u001b[0;34m,\u001b[0m \u001b[0mtakeUpToNumLeft\u001b[0m\u001b[0;34m,\u001b[0m \u001b[0mp\u001b[0m\u001b[0;34m)\u001b[0m\u001b[0;34m\u001b[0m\u001b[0m\n\u001b[0m\u001b[1;32m   1359\u001b[0m \u001b[0;34m\u001b[0m\u001b[0m\n\u001b[1;32m   1360\u001b[0m             \u001b[0mitems\u001b[0m \u001b[0;34m+=\u001b[0m \u001b[0mres\u001b[0m\u001b[0;34m\u001b[0m\u001b[0m\n",
      "\u001b[0;32m/usr/local/lib/python3.6/dist-packages/pyspark/context.py\u001b[0m in \u001b[0;36mrunJob\u001b[0;34m(self, rdd, partitionFunc, partitions, allowLocal)\u001b[0m\n\u001b[1;32m    999\u001b[0m         \u001b[0;31m# SparkContext#runJob.\u001b[0m\u001b[0;34m\u001b[0m\u001b[0;34m\u001b[0m\u001b[0m\n\u001b[1;32m   1000\u001b[0m         \u001b[0mmappedRDD\u001b[0m \u001b[0;34m=\u001b[0m \u001b[0mrdd\u001b[0m\u001b[0;34m.\u001b[0m\u001b[0mmapPartitions\u001b[0m\u001b[0;34m(\u001b[0m\u001b[0mpartitionFunc\u001b[0m\u001b[0;34m)\u001b[0m\u001b[0;34m\u001b[0m\u001b[0m\n\u001b[0;32m-> 1001\u001b[0;31m         \u001b[0mport\u001b[0m \u001b[0;34m=\u001b[0m \u001b[0mself\u001b[0m\u001b[0;34m.\u001b[0m\u001b[0m_jvm\u001b[0m\u001b[0;34m.\u001b[0m\u001b[0mPythonRDD\u001b[0m\u001b[0;34m.\u001b[0m\u001b[0mrunJob\u001b[0m\u001b[0;34m(\u001b[0m\u001b[0mself\u001b[0m\u001b[0;34m.\u001b[0m\u001b[0m_jsc\u001b[0m\u001b[0;34m.\u001b[0m\u001b[0msc\u001b[0m\u001b[0;34m(\u001b[0m\u001b[0;34m)\u001b[0m\u001b[0;34m,\u001b[0m \u001b[0mmappedRDD\u001b[0m\u001b[0;34m.\u001b[0m\u001b[0m_jrdd\u001b[0m\u001b[0;34m,\u001b[0m \u001b[0mpartitions\u001b[0m\u001b[0;34m)\u001b[0m\u001b[0;34m\u001b[0m\u001b[0m\n\u001b[0m\u001b[1;32m   1002\u001b[0m         \u001b[0;32mreturn\u001b[0m \u001b[0mlist\u001b[0m\u001b[0;34m(\u001b[0m\u001b[0m_load_from_socket\u001b[0m\u001b[0;34m(\u001b[0m\u001b[0mport\u001b[0m\u001b[0;34m,\u001b[0m \u001b[0mmappedRDD\u001b[0m\u001b[0;34m.\u001b[0m\u001b[0m_jrdd_deserializer\u001b[0m\u001b[0;34m)\u001b[0m\u001b[0;34m)\u001b[0m\u001b[0;34m\u001b[0m\u001b[0m\n\u001b[1;32m   1003\u001b[0m \u001b[0;34m\u001b[0m\u001b[0m\n",
      "\u001b[0;32m/usr/local/lib/python3.6/dist-packages/py4j/java_gateway.py\u001b[0m in \u001b[0;36m__call__\u001b[0;34m(self, *args)\u001b[0m\n\u001b[1;32m   1156\u001b[0m             \u001b[0mproto\u001b[0m\u001b[0;34m.\u001b[0m\u001b[0mEND_COMMAND_PART\u001b[0m\u001b[0;34m\u001b[0m\u001b[0m\n\u001b[1;32m   1157\u001b[0m \u001b[0;34m\u001b[0m\u001b[0m\n\u001b[0;32m-> 1158\u001b[0;31m         \u001b[0manswer\u001b[0m \u001b[0;34m=\u001b[0m \u001b[0mself\u001b[0m\u001b[0;34m.\u001b[0m\u001b[0mgateway_client\u001b[0m\u001b[0;34m.\u001b[0m\u001b[0msend_command\u001b[0m\u001b[0;34m(\u001b[0m\u001b[0mcommand\u001b[0m\u001b[0;34m)\u001b[0m\u001b[0;34m\u001b[0m\u001b[0m\n\u001b[0m\u001b[1;32m   1159\u001b[0m         return_value = get_return_value(\n\u001b[1;32m   1160\u001b[0m             answer, self.gateway_client, self.target_id, self.name)\n",
      "\u001b[0;32m/usr/local/lib/python3.6/dist-packages/py4j/java_gateway.py\u001b[0m in \u001b[0;36msend_command\u001b[0;34m(self, command, retry, binary)\u001b[0m\n\u001b[1;32m    906\u001b[0m         \u001b[0mconnection\u001b[0m \u001b[0;34m=\u001b[0m \u001b[0mself\u001b[0m\u001b[0;34m.\u001b[0m\u001b[0m_get_connection\u001b[0m\u001b[0;34m(\u001b[0m\u001b[0;34m)\u001b[0m\u001b[0;34m\u001b[0m\u001b[0m\n\u001b[1;32m    907\u001b[0m         \u001b[0;32mtry\u001b[0m\u001b[0;34m:\u001b[0m\u001b[0;34m\u001b[0m\u001b[0m\n\u001b[0;32m--> 908\u001b[0;31m             \u001b[0mresponse\u001b[0m \u001b[0;34m=\u001b[0m \u001b[0mconnection\u001b[0m\u001b[0;34m.\u001b[0m\u001b[0msend_command\u001b[0m\u001b[0;34m(\u001b[0m\u001b[0mcommand\u001b[0m\u001b[0;34m)\u001b[0m\u001b[0;34m\u001b[0m\u001b[0m\n\u001b[0m\u001b[1;32m    909\u001b[0m             \u001b[0;32mif\u001b[0m \u001b[0mbinary\u001b[0m\u001b[0;34m:\u001b[0m\u001b[0;34m\u001b[0m\u001b[0m\n\u001b[1;32m    910\u001b[0m                 \u001b[0;32mreturn\u001b[0m \u001b[0mresponse\u001b[0m\u001b[0;34m,\u001b[0m \u001b[0mself\u001b[0m\u001b[0;34m.\u001b[0m\u001b[0m_create_connection_guard\u001b[0m\u001b[0;34m(\u001b[0m\u001b[0mconnection\u001b[0m\u001b[0;34m)\u001b[0m\u001b[0;34m\u001b[0m\u001b[0m\n",
      "\u001b[0;32m/usr/local/lib/python3.6/dist-packages/py4j/java_gateway.py\u001b[0m in \u001b[0;36msend_command\u001b[0;34m(self, command)\u001b[0m\n\u001b[1;32m   1053\u001b[0m \u001b[0;34m\u001b[0m\u001b[0m\n\u001b[1;32m   1054\u001b[0m         \u001b[0;32mtry\u001b[0m\u001b[0;34m:\u001b[0m\u001b[0;34m\u001b[0m\u001b[0m\n\u001b[0;32m-> 1055\u001b[0;31m             \u001b[0manswer\u001b[0m \u001b[0;34m=\u001b[0m \u001b[0msmart_decode\u001b[0m\u001b[0;34m(\u001b[0m\u001b[0mself\u001b[0m\u001b[0;34m.\u001b[0m\u001b[0mstream\u001b[0m\u001b[0;34m.\u001b[0m\u001b[0mreadline\u001b[0m\u001b[0;34m(\u001b[0m\u001b[0;34m)\u001b[0m\u001b[0;34m[\u001b[0m\u001b[0;34m:\u001b[0m\u001b[0;34m-\u001b[0m\u001b[0;36m1\u001b[0m\u001b[0;34m]\u001b[0m\u001b[0;34m)\u001b[0m\u001b[0;34m\u001b[0m\u001b[0m\n\u001b[0m\u001b[1;32m   1056\u001b[0m             \u001b[0mlogger\u001b[0m\u001b[0;34m.\u001b[0m\u001b[0mdebug\u001b[0m\u001b[0;34m(\u001b[0m\u001b[0;34m\"Answer received: {0}\"\u001b[0m\u001b[0;34m.\u001b[0m\u001b[0mformat\u001b[0m\u001b[0;34m(\u001b[0m\u001b[0manswer\u001b[0m\u001b[0;34m)\u001b[0m\u001b[0;34m)\u001b[0m\u001b[0;34m\u001b[0m\u001b[0m\n\u001b[1;32m   1057\u001b[0m             \u001b[0;32mif\u001b[0m \u001b[0manswer\u001b[0m\u001b[0;34m.\u001b[0m\u001b[0mstartswith\u001b[0m\u001b[0;34m(\u001b[0m\u001b[0mproto\u001b[0m\u001b[0;34m.\u001b[0m\u001b[0mRETURN_MESSAGE\u001b[0m\u001b[0;34m)\u001b[0m\u001b[0;34m:\u001b[0m\u001b[0;34m\u001b[0m\u001b[0m\n",
      "\u001b[0;32m/usr/lib/python3.6/socket.py\u001b[0m in \u001b[0;36mreadinto\u001b[0;34m(self, b)\u001b[0m\n\u001b[1;32m    584\u001b[0m         \u001b[0;32mwhile\u001b[0m \u001b[0;32mTrue\u001b[0m\u001b[0;34m:\u001b[0m\u001b[0;34m\u001b[0m\u001b[0m\n\u001b[1;32m    585\u001b[0m             \u001b[0;32mtry\u001b[0m\u001b[0;34m:\u001b[0m\u001b[0;34m\u001b[0m\u001b[0m\n\u001b[0;32m--> 586\u001b[0;31m                 \u001b[0;32mreturn\u001b[0m \u001b[0mself\u001b[0m\u001b[0;34m.\u001b[0m\u001b[0m_sock\u001b[0m\u001b[0;34m.\u001b[0m\u001b[0mrecv_into\u001b[0m\u001b[0;34m(\u001b[0m\u001b[0mb\u001b[0m\u001b[0;34m)\u001b[0m\u001b[0;34m\u001b[0m\u001b[0m\n\u001b[0m\u001b[1;32m    587\u001b[0m             \u001b[0;32mexcept\u001b[0m \u001b[0mtimeout\u001b[0m\u001b[0;34m:\u001b[0m\u001b[0;34m\u001b[0m\u001b[0m\n\u001b[1;32m    588\u001b[0m                 \u001b[0mself\u001b[0m\u001b[0;34m.\u001b[0m\u001b[0m_timeout_occurred\u001b[0m \u001b[0;34m=\u001b[0m \u001b[0;32mTrue\u001b[0m\u001b[0;34m\u001b[0m\u001b[0m\n",
      "\u001b[0;31mKeyboardInterrupt\u001b[0m: "
     ]
    }
   ],
   "source": [
    "# mypath = \"/home/ubuntu/A.tar.gz/A/MillionSongSubset/data/A/A\"\n",
    "mypath = \"hdfs://192.168.1.16:9000/user/ubuntu/A/*\"\n",
    "songs = []\n",
    "text_file = spark_context.textFile(mypath)\n",
    "\n",
    "text_file.map(lambda x: x.join(',')).take(10)\n",
    "#map(lambda x: hdf5_getters.open_h5_file_read(x)).take(10)\n",
    "\n",
    "#.map(lambda x: hdf5_getters.get_title(x)).take(5)\n",
    "\n",
    "# recursive_file_search(mypath, songs)\n",
    "# songs_rdd = spark_context.parallelize(songs)\n",
    "# print(\"All songs in specified directory appended\")"
   ]
  },
  {
   "cell_type": "code",
   "execution_count": 289,
   "metadata": {},
   "outputs": [
    {
     "name": "stdout",
     "output_type": "stream",
     "text": [
      "b'Found 53 items\\n-rw-r--r--   1 ubuntu supergroup     216920 2018-05-28 12:55 /user/ubuntu/A/TRAAAAK128F9318786.h5\\n-rw-r--r--   1 ubuntu supergroup     173027 2018-05-28 12:55 /user/ubuntu/A/TRAAAAV128F421A322.h5\\n-rw-r--r--   1 ubuntu supergroup     284446 2018-05-28 12:55 /user/ubuntu/A/TRAAAAW128F429D538.h5\\n-rw-r--r--   1 ubuntu supergroup     199492 2018-05-28 12:55 /user/ubuntu/A/TRAAAAY128F42A73F0.h5\\n-rw-r--r--   1 ubuntu supergroup     204971 2018-05-28 12:55 /user/ubuntu/A/TRAAABD128F429CF47.h5\\n-rw-r--r--   1 ubuntu supergroup     353717 2018-05-28 12:55 /user/ubuntu/A/TRAAACN128F9355673.h5\\n-rw-r--r--   1 ubuntu supergroup     208580 2018-05-28 12:55 /user/ubuntu/A/TRAAACV128F423E09E.h5\\n-rw-r--r--   1 ubuntu supergroup     393016 2018-05-28 12:55 /user/ubuntu/A/TRAAADJ128F4287B47.h5\\n-rw-r--r--   1 ubuntu supergroup     186585 2018-05-28 12:55 /user/ubuntu/A/TRAAADT12903CCC339.h5\\n-rw-r--r--   1 ubuntu supergroup     205131 2018-05-28 12:55 /user/ubuntu/A/TRAAADZ128F9348C2E.h5\\n-rw-r--r--   1 ubuntu supergroup     189969 2018-05-28 12:55 /user/ubuntu/A/TRAAAEA128F935A30D.h5\\n-rw-r--r--   1 ubuntu supergroup     273453 2018-05-28 12:55 /user/ubuntu/A/TRAAAED128E0783FAB.h5\\n-rw-r--r--   1 ubuntu supergroup     265075 2018-05-28 12:55 /user/ubuntu/A/TRAAAEF128F4273421.h5\\n-rw-r--r--   1 ubuntu supergroup     652498 2018-05-28 12:55 /user/ubuntu/A/TRAAAEM128F93347B9.h5\\n-rw-r--r--   1 ubuntu supergroup     250781 2018-05-28 12:55 /user/ubuntu/A/TRAAAEW128F42930C0.h5\\n-rw-r--r--   1 ubuntu supergroup     230735 2018-05-28 12:55 /user/ubuntu/A/TRAAAFD128F92F423A.h5\\n-rw-r--r--   1 ubuntu supergroup     221197 2018-05-28 12:55 /user/ubuntu/A/TRAAAFI12903CE4F0E.h5\\n-rw-r--r--   1 ubuntu supergroup     311828 2018-05-28 12:55 /user/ubuntu/A/TRAAAFP128F931B4E3.h5\\n-rw-r--r--   1 ubuntu supergroup     188976 2018-05-28 12:55 /user/ubuntu/A/TRAAAFW128F42A4CFD.h5\\n-rw-r--r--   1 ubuntu supergroup     184264 2018-05-28 12:55 /user/ubuntu/A/TRAAAGF12903CEC202.h5\\n-rw-r--r--   1 ubuntu supergroup     288488 2018-05-28 12:55 /user/ubuntu/A/TRAAAGR128F425B14B.h5\\n-rw-r--r--   1 ubuntu supergroup     297301 2018-05-28 12:55 /user/ubuntu/A/TRAAAGW12903CC1049.h5\\n-rw-r--r--   1 ubuntu supergroup     240664 2018-05-28 12:55 /user/ubuntu/A/TRAAAHD128F42635A5.h5\\n-rw-r--r--   1 ubuntu supergroup     212723 2018-05-28 12:55 /user/ubuntu/A/TRAAAHE12903C9669C.h5\\n-rw-r--r--   1 ubuntu supergroup     336348 2018-05-28 12:55 /user/ubuntu/A/TRAAAHJ128F931194C.h5\\n-rw-r--r--   1 ubuntu supergroup     191548 2018-05-28 12:55 /user/ubuntu/A/TRAAAHO128F423BBE3.h5\\n-rw-r--r--   1 ubuntu supergroup     307046 2018-05-28 12:55 /user/ubuntu/A/TRAAAHZ128E0799171.h5\\n-rw-r--r--   1 ubuntu supergroup     360653 2018-05-28 12:55 /user/ubuntu/A/TRAAAIC128F14A5138.h5\\n-rw-r--r--   1 ubuntu supergroup     227090 2018-05-28 12:55 /user/ubuntu/A/TRAAAIR128F1480971.h5\\n-rw-r--r--   1 ubuntu supergroup     230504 2018-05-28 12:55 /user/ubuntu/A/TRAAAJG128F9308A25.h5\\n-rw-r--r--   1 ubuntu supergroup     876014 2018-05-28 12:55 /user/ubuntu/A/TRAAAJN128F428E437.h5\\n-rw-r--r--   1 ubuntu supergroup     188797 2018-05-28 12:55 /user/ubuntu/A/TRAAAJO12903CAAC69.h5\\n-rw-r--r--   1 ubuntu supergroup     196494 2018-05-28 12:55 /user/ubuntu/A/TRAAAKO128F426441E.h5\\n-rw-r--r--   1 ubuntu supergroup     231707 2018-05-28 12:55 /user/ubuntu/A/TRAAAMG128F9318C5E.h5\\n-rw-r--r--   1 ubuntu supergroup     270486 2018-05-28 12:55 /user/ubuntu/A/TRAAAMO128F1481E7F.h5\\n-rw-r--r--   1 ubuntu supergroup     184936 2018-05-28 12:55 /user/ubuntu/A/TRAAAMQ128F1460CD3.h5\\n-rw-r--r--   1 ubuntu supergroup     576839 2018-05-28 12:55 /user/ubuntu/A/TRAAAND12903CD1F1B.h5\\n-rw-r--r--   1 ubuntu supergroup     357936 2018-05-28 12:55 /user/ubuntu/A/TRAAANK128F428B515.h5\\n-rw-r--r--   1 ubuntu supergroup     326720 2018-05-28 12:55 /user/ubuntu/A/TRAAAOF128F429C156.h5\\n-rw-r--r--   1 ubuntu supergroup     207949 2018-05-28 12:55 /user/ubuntu/A/TRAAAPK128E0786D96.h5\\n-rw-r--r--   1 ubuntu supergroup     203680 2018-05-28 12:55 /user/ubuntu/A/TRAAAQN128F9353BA0.h5\\n-rw-r--r--   1 ubuntu supergroup     302034 2018-05-28 12:55 /user/ubuntu/A/TRAAAQO12903CD8E1C.h5\\n-rw-r--r--   1 ubuntu supergroup     283747 2018-05-28 12:55 /user/ubuntu/A/TRAAARJ128F9320760.h5\\n-rw-r--r--   1 ubuntu supergroup     201668 2018-05-28 12:55 /user/ubuntu/A/TRAAAUC128F428716F.h5\\n-rw-r--r--   1 ubuntu supergroup     224659 2018-05-28 12:55 /user/ubuntu/A/TRAAAUR128F428B1FA.h5\\n-rw-r--r--   1 ubuntu supergroup     369791 2018-05-28 12:55 /user/ubuntu/A/TRAAAVG12903CFA543.h5\\n-rw-r--r--   1 ubuntu supergroup     777179 2018-05-28 12:55 /user/ubuntu/A/TRAAAVH128F42554C6.h5\\n-rw-r--r--   1 ubuntu supergroup     451429 2018-05-28 12:55 /user/ubuntu/A/TRAAAVL128F93028BC.h5\\n-rw-r--r--   1 ubuntu supergroup     244095 2018-05-28 12:55 /user/ubuntu/A/TRAAAVO128F93133D4.h5\\n-rw-r--r--   1 ubuntu supergroup     202444 2018-05-28 12:55 /user/ubuntu/A/TRAAAYL128F4271A5B.h5\\n-rw-r--r--   1 ubuntu supergroup     186733 2018-05-28 12:55 /user/ubuntu/A/TRAAAYX128F4263BC0.h5\\n-rw-r--r--   1 ubuntu supergroup     224058 2018-05-28 12:55 /user/ubuntu/A/TRAAAZF12903CCCF6B.h5\\n-rw-r--r--   1 ubuntu supergroup     238402 2018-05-28 12:55 /user/ubuntu/A/TRAAAZU128F4226F7A.h5\\n'\n"
     ]
    },
    {
     "ename": "AttributeError",
     "evalue": "'NoneType' object has no attribute 'strip'",
     "output_type": "error",
     "traceback": [
      "\u001b[0;31m---------------------------------------------------------------------------\u001b[0m",
      "\u001b[0;31mAttributeError\u001b[0m                            Traceback (most recent call last)",
      "\u001b[0;32m<ipython-input-289-2bffc64d6541>\u001b[0m in \u001b[0;36m<module>\u001b[0;34m()\u001b[0m\n\u001b[1;32m      4\u001b[0m \u001b[0mcmd\u001b[0m \u001b[0;34m=\u001b[0m \u001b[0;34m'/home/hadoop-2.8.4/bin/hdfs dfs -ls /user/ubuntu/A'\u001b[0m\u001b[0;34m.\u001b[0m\u001b[0msplit\u001b[0m\u001b[0;34m(\u001b[0m\u001b[0;34m)\u001b[0m\u001b[0;34m\u001b[0m\u001b[0m\n\u001b[1;32m      5\u001b[0m \u001b[0mfiles\u001b[0m \u001b[0;34m=\u001b[0m \u001b[0msubprocess\u001b[0m\u001b[0;34m.\u001b[0m\u001b[0mcheck_output\u001b[0m\u001b[0;34m(\u001b[0m\u001b[0mcmd\u001b[0m\u001b[0;34m)\u001b[0m\u001b[0;34m\u001b[0m\u001b[0m\n\u001b[0;32m----> 6\u001b[0;31m \u001b[0mprint\u001b[0m\u001b[0;34m(\u001b[0m\u001b[0mstr\u001b[0m\u001b[0;34m(\u001b[0m\u001b[0mfiles\u001b[0m\u001b[0;34m)\u001b[0m\u001b[0;34m)\u001b[0m\u001b[0;34m.\u001b[0m\u001b[0mstrip\u001b[0m\u001b[0;34m(\u001b[0m\u001b[0;34m)\u001b[0m\u001b[0;34m.\u001b[0m\u001b[0msplit\u001b[0m\u001b[0;34m(\u001b[0m\u001b[0;34m' '\u001b[0m\u001b[0;34m)\u001b[0m\u001b[0;34m\u001b[0m\u001b[0m\n\u001b[0m\u001b[1;32m      7\u001b[0m \u001b[0;31m#files = subprocess.check_output(cmd).strip().split('\\n')\u001b[0m\u001b[0;34m\u001b[0m\u001b[0;34m\u001b[0m\u001b[0m\n\u001b[1;32m      8\u001b[0m \u001b[0;31m#for path in files:\u001b[0m\u001b[0;34m\u001b[0m\u001b[0;34m\u001b[0m\u001b[0m\n",
      "\u001b[0;31mAttributeError\u001b[0m: 'NoneType' object has no attribute 'strip'"
     ]
    }
   ],
   "source": [
    "import os\n",
    "import subprocess\n",
    "\n",
    "cmd = '/home/hadoop-2.8.4/bin/hdfs dfs -ls /user/ubuntu/A'.split()\n",
    "files = subprocess.check_output(cmd)\n",
    "print(str(files)).strip().split(' ')\n",
    "#files = subprocess.check_output(cmd).strip().split('\\n')\n",
    "#for path in files:\n",
    " # print(path)"
   ]
  },
  {
   "cell_type": "code",
   "execution_count": null,
   "metadata": {
    "collapsed": true
   },
   "outputs": [],
   "source": [
    "# def iterate_songs(song):\n",
    "#         h5 = hdf5_getters.open_h5_file_read(song)\n",
    "#         track_id = str(hdf5_getters.get_song_id(h5), \"utf-8\")\n",
    "#         artist = str(hdf5_getters.get_artist_name(h5), \"utf-8\")\n",
    "#         title = str(hdf5_getters.get_title(h5), \"utf-8\")\n",
    "#         loudness = float(hdf5_getters.get_loudness(h5))\n",
    "#         release_year = int(hdf5_getters.get_year(h5))\n",
    "#         tempo = float(hdf5_getters.get_tempo(h5))\n",
    "#         danceability = float(hdf5_getters.get_danceability(h5))\n",
    "\n",
    "#         tags = hdf5_getters.get_artist_mbtags(h5)\n",
    "#         tags = tags.tolist()\n",
    "#         tags_refined = []\n",
    "#         for tag in tags:\n",
    "#             tags_refined.append(str(tag, \"utf-8\"))\n",
    "\n",
    "#         h5.close()\n",
    "#         return {'track_id': track_id,\n",
    "#                 'artist': artist,\n",
    "#                 'title': title,\n",
    "#                 'loudness': loudness,\n",
    "#                 'release_year': release_year,\n",
    "#                 'tempo': tempo,\n",
    "#                 'tags': tags_refined}"
   ]
  },
  {
   "cell_type": "code",
   "execution_count": null,
   "metadata": {
    "collapsed": true
   },
   "outputs": [],
   "source": [
    "def iterate_songs(song):\n",
    "        h5 = open_h5_file_read(song)\n",
    "        track_id = str(get_song_id(h5), \"utf-8\")\n",
    "        artist = str(get_artist_name(h5), \"utf-8\")\n",
    "        title = str(get_title(h5), \"utf-8\")\n",
    "        loudness = float(get_loudness(h5))\n",
    "        release_year = int(get_year(h5))\n",
    "        tempo = float(get_tempo(h5))\n",
    "        danceability = float(get_danceability(h5))\n",
    "\n",
    "        tags = get_artist_mbtags(h5)\n",
    "        tags = tags.tolist()\n",
    "        tags_refined = []\n",
    "        for tag in tags:\n",
    "            tags_refined.append(str(tag, \"utf-8\"))\n",
    "\n",
    "        h5.close()\n",
    "        return {'track_id': track_id,\n",
    "                'artist': artist,\n",
    "                'title': title,\n",
    "                'loudness': loudness,\n",
    "                'release_year': release_year,\n",
    "                'tempo': tempo,\n",
    "                'tags': tags_refined}"
   ]
  },
  {
   "cell_type": "code",
   "execution_count": null,
   "metadata": {
    "collapsed": true
   },
   "outputs": [],
   "source": [
    "def convert_to_row(d: dict) -> Row:\n",
    "   return Row(**OrderedDict(sorted(d.items())))\n",
    "\n",
    "new_rdd = songs_rdd.map(iterate_songs)\n",
    "\n",
    "df = new_rdd.map(convert_to_row).toDF()"
   ]
  },
  {
   "cell_type": "code",
   "execution_count": null,
   "metadata": {
    "collapsed": true
   },
   "outputs": [],
   "source": [
    "df.show()"
   ]
  },
  {
   "cell_type": "code",
   "execution_count": null,
   "metadata": {
    "collapsed": true
   },
   "outputs": [],
   "source": [
    "df.registerTempTable(\"songs\")\n",
    "spark_session.sql(\"select avg(tempo), release_year from songs group by release_year order by avg(tempo) desc\").show()"
   ]
  },
  {
   "cell_type": "code",
   "execution_count": 319,
   "metadata": {},
   "outputs": [],
   "source": [
    "spark_context.stop()"
   ]
  },
  {
   "cell_type": "code",
   "execution_count": null,
   "metadata": {},
   "outputs": [],
   "source": []
  }
 ],
 "metadata": {
  "kernelspec": {
   "display_name": "Python 3",
   "language": "python",
   "name": "python3"
  },
  "language_info": {
   "codemirror_mode": {
    "name": "ipython",
    "version": 3
   },
   "file_extension": ".py",
   "mimetype": "text/x-python",
   "name": "python",
   "nbconvert_exporter": "python",
   "pygments_lexer": "ipython3",
   "version": "3.6.5"
  }
 },
 "nbformat": 4,
 "nbformat_minor": 1
}
