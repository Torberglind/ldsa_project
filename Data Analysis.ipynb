{
 "cells": [
  {
   "cell_type": "code",
   "execution_count": 310,
   "metadata": {
    "collapsed": true
   },
   "outputs": [],
   "source": [
    "import os\n",
    "from pyspark.sql import SparkSession\n",
    "from pyspark.sql import SQLContext\n",
    "from pyspark.sql.types import *\n",
    "from pyspark.sql import Row\n",
    "from collections import OrderedDict\n",
    "from pyspark import SparkFiles\n",
    "from tables import *\n",
    "\n",
    "\n",
    "spark_session = SparkSession\\\n",
    "                .builder\\\n",
    "                .master(\"local\")\\\n",
    "                .appName(\"Cluster Data Analysis\")\\\n",
    "                .getOrCreate()\n",
    "#               .master(\"spark://192.168.1.16:7077\") \\\n",
    "#               .config(\"spark.submit.deployMode\", \"client\")\\\n",
    "#               .config(\"spark.dynamicAllocation.enabled\", \"false\")\\\n",
    "#               .config(\"spark.cores.max\", \"4\")\\\n",
    "#               .config(\"spark.dynamicAllocation.enabled\", \"false\")\\\n",
    "#               .config(\"spark.executor.memory\", \"4g\")\\\n",
    "                \n",
    "spark_context = spark_session.sparkContext\n",
    "sqlContext = SQLContext(spark_session)"
   ]
  },
  {
   "cell_type": "code",
   "execution_count": 311,
   "metadata": {
    "collapsed": true
   },
   "outputs": [],
   "source": [
    "# mypath = \"hdfs://192.168.1.16:9000/user/ubuntu/songs_small.csv\"\n",
    "mypath = \"songs_small.csv\"\n",
    "\n",
    "data_frame = spark_session.read\\\n",
    "    .option('header', 'true')\\\n",
    "    .option('ignoreLeadingWhiteSpace', 'true')\\\n",
    "    .option('ignoreTrailingWhiteSpace', 'true')\\\n",
    "    .csv(mypath, inferSchema=True, multiLine=True)\n",
    "#data_frame.count()"
   ]
  },
  {
   "cell_type": "code",
   "execution_count": 312,
   "metadata": {
    "collapsed": true
   },
   "outputs": [],
   "source": [
    "data_frame.take(1)"
   ]
  },
  {
   "cell_type": "code",
   "execution_count": 313,
   "metadata": {
    "collapsed": true
   },
   "outputs": [],
   "source": [
    "data_frame = data_frame.withColumn(\"tempo\", data_frame[\"tempo\"].cast(DoubleType()))"
   ]
  },
  {
   "cell_type": "code",
   "execution_count": null,
   "metadata": {
    "collapsed": true
   },
   "outputs": [],
   "source": [
    "data_frame.printSchema()"
   ]
  },
  {
   "cell_type": "code",
   "execution_count": null,
   "metadata": {
    "collapsed": true
   },
   "outputs": [],
   "source": [
    "data_frame.registerTempTable(\"songs\")\n",
    "\n",
    "# spark_session.sql(\"select artist_name from songs where artist_name like 'b%'\").show()\n",
    "# spark_session.sql(\"select year from songs\").show()\n",
    "spark_session.sql(\"SELECT year from songs\").show()"
   ]
  },
  {
   "cell_type": "code",
   "execution_count": null,
   "metadata": {
    "collapsed": true
   },
   "outputs": [],
   "source": [
    "spark_session.sql(\"select avg(loudness), year from songs group by year order by avg(tempo) desc\").show()"
   ]
  },
  {
   "cell_type": "code",
   "execution_count": null,
   "metadata": {
    "collapsed": true
   },
   "outputs": [],
   "source": [
    "spark_context.stop()"
   ]
  }
 ],
 "metadata": {
  "kernelspec": {
   "display_name": "Python 3",
   "language": "python",
   "name": "python3"
  },
  "language_info": {
   "codemirror_mode": {
    "name": "ipython",
    "version": 3
   },
   "file_extension": ".py",
   "mimetype": "text/x-python",
   "name": "python",
   "nbconvert_exporter": "python",
   "pygments_lexer": "ipython3",
   "version": "3.5.3"
  }
 },
 "nbformat": 4,
 "nbformat_minor": 1
}
