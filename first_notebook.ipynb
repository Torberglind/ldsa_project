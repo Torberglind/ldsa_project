{
 "cells": [
  {
   "cell_type": "code",
   "execution_count": 1,
   "metadata": {},
   "outputs": [],
   "source": [
    "from utils import hdf5_getters\n",
    "import os\n",
    "from pyspark.sql import SparkSession\n",
    "from pyspark.sql import SQLContext\n",
    "from pyspark.sql.types import *\n",
    "import time\n",
    "\n",
    "spark_session = SparkSession\\\n",
    "                .builder\\\n",
    "                .master(\"local\") \\\n",
    "                .appName(\"first_notebook\")\\\n",
    "                .getOrCreate()\n",
    "\n",
    "spark_context = spark_session.sparkContext\n",
    "sqlContext = SQLContext(spark_session)"
   ]
  },
  {
   "cell_type": "code",
   "execution_count": 2,
   "metadata": {},
   "outputs": [
    {
     "ename": "AttributeError",
     "evalue": "'SparkSession' object has no attribute 'parallelize'",
     "output_type": "error",
     "traceback": [
      "\u001b[0;31m---------------------------------------------------------------------------\u001b[0m",
      "\u001b[0;31mAttributeError\u001b[0m                            Traceback (most recent call last)",
      "\u001b[0;32m<ipython-input-2-c3875118ab27>\u001b[0m in \u001b[0;36m<module>\u001b[0;34m()\u001b[0m\n\u001b[1;32m      1\u001b[0m \u001b[0mdf\u001b[0m \u001b[0;34m=\u001b[0m \u001b[0mspark_session\u001b[0m\u001b[0;34m.\u001b[0m\u001b[0mread\u001b[0m     \u001b[0;34m.\u001b[0m\u001b[0moption\u001b[0m\u001b[0;34m(\u001b[0m\u001b[0;34m\"header\"\u001b[0m\u001b[0;34m,\u001b[0m \u001b[0;34m\"true\"\u001b[0m\u001b[0;34m)\u001b[0m    \u001b[0;34m.\u001b[0m\u001b[0mcsv\u001b[0m\u001b[0;34m(\u001b[0m\u001b[0;34m\"songs.csv\"\u001b[0m\u001b[0;34m)\u001b[0m    \u001b[0;34m.\u001b[0m\u001b[0mcache\u001b[0m\u001b[0;34m(\u001b[0m\u001b[0;34m)\u001b[0m\u001b[0;34m\u001b[0m\u001b[0m\n\u001b[1;32m      2\u001b[0m \u001b[0;34m\u001b[0m\u001b[0m\n\u001b[0;32m----> 3\u001b[0;31m \u001b[0mdistData\u001b[0m \u001b[0;34m=\u001b[0m \u001b[0mspark_session\u001b[0m\u001b[0;34m.\u001b[0m\u001b[0mparallelize\u001b[0m\u001b[0;34m(\u001b[0m\u001b[0;34m)\u001b[0m\u001b[0;34m\u001b[0m\u001b[0m\n\u001b[0m",
      "\u001b[0;31mAttributeError\u001b[0m: 'SparkSession' object has no attribute 'parallelize'"
     ]
    }
   ],
   "source": [
    "df = spark_session.read \\\n",
    "    .option(\"header\", \"true\")\\\n",
    "    .csv(\"songs.csv\")\\\n",
    "    .cache()\n",
    "\n",
    "distData = spark_session.parallelize()"
   ]
  },
  {
   "cell_type": "code",
   "execution_count": 3,
   "metadata": {},
   "outputs": [],
   "source": [
    "df = df.withColumn(\"loudness\", df[\"loudness\"].cast(DoubleType()))\n",
    "df = df.withColumn(\"tempo\", df[\"tempo\"].cast(DoubleType()))\n",
    "df = df.withColumn(\"release_year\", df[\"release year\"].cast(IntegerType()))"
   ]
  },
  {
   "cell_type": "code",
   "execution_count": 4,
   "metadata": {},
   "outputs": [
    {
     "name": "stdout",
     "output_type": "stream",
     "text": [
      "root\n",
      " |-- track id: string (nullable = true)\n",
      " |-- artist: string (nullable = true)\n",
      " |-- title: string (nullable = true)\n",
      " |-- loudness: double (nullable = true)\n",
      " |-- tempo: double (nullable = true)\n",
      " |-- tags: string (nullable = true)\n",
      " |-- release year: string (nullable = true)\n",
      " |-- release_year: integer (nullable = true)\n",
      "\n"
     ]
    }
   ],
   "source": [
    "df.printSchema()"
   ]
  },
  {
   "cell_type": "code",
   "execution_count": 5,
   "metadata": {},
   "outputs": [
    {
     "data": {
      "text/plain": [
       "10000"
      ]
     },
     "execution_count": 5,
     "metadata": {},
     "output_type": "execute_result"
    }
   ],
   "source": [
    "df.count()"
   ]
  },
  {
   "cell_type": "code",
   "execution_count": 6,
   "metadata": {},
   "outputs": [
    {
     "name": "stdout",
     "output_type": "stream",
     "text": [
      "+------------------+------------+\n",
      "|        avg(tempo)|release_year|\n",
      "+------------------+------------+\n",
      "|139.33685714285716|        1977|\n",
      "|137.51694444444445|        1979|\n",
      "|137.26139999999998|        1976|\n",
      "|         136.16196|        1971|\n",
      "|         134.38385|        1978|\n",
      "|           133.322|        1930|\n",
      "|132.86585294117648|        1985|\n",
      "|132.84029411764706|        1969|\n",
      "|           131.442|        1958|\n",
      "|131.06533333333334|        1927|\n",
      "|129.17204166666667|        1972|\n",
      "|128.80169724770647|        1996|\n",
      "|128.76611067193673|        2008|\n",
      "|128.47726190476197|        1993|\n",
      "|127.96075000000002|        1981|\n",
      "|127.95625000000001|        1984|\n",
      "|127.90901562500005|        2000|\n",
      "|127.63483333333333|        1966|\n",
      "|127.54160000000005|        1995|\n",
      "|126.89337499999999|        1980|\n",
      "+------------------+------------+\n",
      "only showing top 20 rows\n",
      "\n"
     ]
    }
   ],
   "source": [
    "df.registerTempTable(\"songs\")\n",
    "\n",
    "start_time_query = time.clock()\n",
    "spark_session.sql(\"select avg(tempo), release_year from songs group by release_year order by avg(tempo) desc\").show()\n",
    "end_time_query = time.clock()\n",
    "run_time_query = end_time_query - start_time_query"
   ]
  },
  {
   "cell_type": "code",
   "execution_count": 7,
   "metadata": {},
   "outputs": [
    {
     "name": "stdout",
     "output_type": "stream",
     "text": [
      "0.002889999999999837\n"
     ]
    }
   ],
   "source": [
    "print(run_time_query)"
   ]
  },
  {
   "cell_type": "code",
   "execution_count": 28,
   "metadata": {},
   "outputs": [],
   "source": [
    "tempo_results = spark_session.sql(\"select avg(tempo), release_year from songs group by release_year order by avg(tempo) desc\").collect()"
   ]
  },
  {
   "cell_type": "code",
   "execution_count": 29,
   "metadata": {},
   "outputs": [
    {
     "name": "stdout",
     "output_type": "stream",
     "text": [
      "[1977, 1979, 1976, 1971, 1978, 1930, 1985, 1969, 1958, 1927, 1972, 1996, 2008, 1993, 1981, 1984, 2000, 1966, 1995, 1980, 1986, 1983, 2007, 2005, 2001, 1975, 1994, 1959, 2003, 1982, 1974, 1988, 1999, 2006, 2004, 1987, 2009, 2002, 1989, 1992, 1990, 1997, 1970, 0, 1991, 1962, 1963, 2010, 1956, 1998, 1968, 1967, 1973, 1929, 1947, 1964, 1957, 1961, 1940, 1926, 1934, 1960, 1965, 1954, 1953, 1950, 1935, 1955, 1936]\n"
     ]
    }
   ],
   "source": [
    "tempos = []\n",
    "years = []\n",
    "for result in tempo_results:\n",
    "    tempos.append(round(result[0]))\n",
    "    years.append(result[1])\n",
    "print(years)"
   ]
  },
  {
   "cell_type": "code",
   "execution_count": 30,
   "metadata": {},
   "outputs": [],
   "source": [
    "%matplotlib inline\n",
    "import matplotlib.pyplot as plt\n",
    "\n",
    "# pass a list of 2 lists containing x and y values\n",
    "# pass label for x axis and label for y axis\n",
    "def plotGraph(values, x_label, y_label):\n",
    "    plt.subplots(figsize=(8,4), ncols=1)\n",
    "    plt.plot(values[0], values[1])\n",
    "    plt.xlabel(x_label)\n",
    "    plt.ylabel(y_label)\n",
    "    plt.show()\n",
    "    \n",
    "# example implementation\n",
    "# plotGraph([[1,2,3,4], [2,4,6,9]], 'x-axis', 'y-axis')"
   ]
  },
  {
   "cell_type": "code",
   "execution_count": 34,
   "metadata": {},
   "outputs": [
    {
     "data": {
      "image/png": "[encoded data removed]",
      "text/plain": [
       "<Figure size 576x288 with 1 Axes>"
      ]
     },
     "metadata": {},
     "output_type": "display_data"
    }
   ],
   "source": [
    "plotGraph([years, tempos], 'years', 'tempos')"
   ]
  },
  {
   "cell_type": "code",
   "execution_count": null,
   "metadata": {},
   "outputs": [],
   "source": []
  }
 ],
 "metadata": {
  "kernelspec": {
   "display_name": "Python 3",
   "language": "python",
   "name": "python3"
  },
  "language_info": {
   "codemirror_mode": {
    "name": "ipython",
    "version": 3
   },
   "file_extension": ".py",
   "mimetype": "text/x-python",
   "name": "python",
   "nbconvert_exporter": "python",
   "pygments_lexer": "ipython3",
   "version": "3.6.5"
  },
  "widgets": {
   "state": {},
   "version": "1.1.2"
  }
 },
 "nbformat": 4,
 "nbformat_minor": 2
}
