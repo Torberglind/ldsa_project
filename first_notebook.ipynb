{
 "cells": [
  {
   "cell_type": "code",
   "execution_count": null,
   "metadata": {},
   "outputs": [],
   "source": [
    "import hdf5_getters\n",
    "import os\n",
    "from pyspark.sql import SparkSession\n",
    "\n",
    "spark_session = SparkSession\\\n",
    "                .builder\\\n",
    "                .master(\"local\") \\\n",
    "                .appName(\"first_notebook\")\\\n",
    "                .getOrCreate()\n",
    "\n",
    "spark_context = spark_session.sparkContext\n",
    "\n",
    "def recursive_file_search(rootDir, songs):\n",
    "    for lists in os.listdir(rootDir):\n",
    "        path = os.path.join(rootDir, lists)\n",
    "\n",
    "        if os.path.isdir(path):\n",
    "            recursive_file_search(path, songs)\n",
    "        else:\n",
    "            songs.append(str(path))\n",
    "            \n",
    "# change to the correct path\n",
    "file_path=\"files/\"\n",
    "songs = []\n",
    "recursive_file_search(file_path, songs)\n",
    "print(\"All songs in specified directory appended\")"
   ]
  },
  {
   "cell_type": "code",
   "execution_count": null,
   "metadata": {},
   "outputs": [],
   "source": [
    "artists=[]\n",
    "\n",
    "for song in songs:\n",
    "    h5 = hdf5_getters.open_h5_file_read(song)\n",
    "    timbre = hdf5_getters.get_segments_timbre(h5)\n",
    "    artist_name = hdf5_getters.get_artist_name(h5)\n",
    "    artists.append(str(artist_name, \"utf-8\"))\n",
    "    print(timbre.shape)\n",
    "    #print(artist_name)\n",
    "    h5.close()"
   ]
  },
  {
   "cell_type": "code",
   "execution_count": null,
   "metadata": {},
   "outputs": [],
   "source": [
    "artist_names = spark_context.parallelize(artists)\n",
    "artist_names.take(10)"
   ]
  }
 ],
 "metadata": {
  "kernelspec": {
   "display_name": "Python 3",
   "language": "python",
   "name": "python3"
  },
  "language_info": {
   "codemirror_mode": {
    "name": "ipython",
    "version": 3
   },
   "file_extension": ".py",
   "mimetype": "text/x-python",
   "name": "python",
   "nbconvert_exporter": "python",
   "pygments_lexer": "ipython3",
   "version": "3.5.2"
  }
 },
 "nbformat": 4,
 "nbformat_minor": 2
}
