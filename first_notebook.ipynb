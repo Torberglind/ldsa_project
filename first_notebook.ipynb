{
 "cells": [
  {
   "cell_type": "code",
   "execution_count": 1,
   "metadata": {},
   "outputs": [],
   "source": [
    "from utils import hdf5_getters\n",
    "import os\n",
    "from pyspark.sql import SparkSession\n",
    "from pyspark.sql import SQLContext\n",
    "from pyspark.sql.types import *\n",
    "import time\n",
    "\n",
    "spark_session = SparkSession\\\n",
    "                .builder\\\n",
    "                .master(\"local\") \\\n",
    "                .appName(\"first_notebook\")\\\n",
    "                .getOrCreate()\n",
    "\n",
    "spark_context = spark_session.sparkContext\n",
    "sqlContext = SQLContext(spark_session)"
   ]
  },
  {
   "cell_type": "code",
   "execution_count": 2,
   "metadata": {},
   "outputs": [],
   "source": [
    "df = spark_session.read \\\n",
    "    .option(\"header\", \"true\")\\\n",
    "    .csv(\"songs.csv\")\\\n",
    "    .cache()"
   ]
  },
  {
   "cell_type": "code",
   "execution_count": 3,
   "metadata": {},
   "outputs": [],
   "source": [
    "df = df.withColumn(\"loudness\", df[\"loudness\"].cast(DoubleType()))\n",
    "df = df.withColumn(\"tempo\", df[\"tempo\"].cast(DoubleType()))\n",
    "df = df.withColumn(\"release year\", df[\"release year\"].cast(IntegerType()))"
   ]
  },
  {
   "cell_type": "code",
   "execution_count": 4,
   "metadata": {},
   "outputs": [
    {
     "name": "stdout",
     "output_type": "stream",
     "text": [
      "root\n",
      " |-- track id: string (nullable = true)\n",
      " |-- artist: string (nullable = true)\n",
      " |-- title: string (nullable = true)\n",
      " |-- loudness: double (nullable = true)\n",
      " |-- tempo: double (nullable = true)\n",
      " |-- tags: string (nullable = true)\n",
      " |-- release year: integer (nullable = true)\n",
      "\n"
     ]
    }
   ],
   "source": [
    "df.printSchema()"
   ]
  },
  {
   "cell_type": "code",
   "execution_count": 5,
   "metadata": {},
   "outputs": [
    {
     "name": "stdout",
     "output_type": "stream",
     "text": [
      "+------------------+--------------------+--------------------+--------+-------+--------------------+------------+\n",
      "|          track id|              artist|               title|loudness|  tempo|                tags|release year|\n",
      "+------------------+--------------------+--------------------+--------+-------+--------------------+------------+\n",
      "|SOKEKSF12AAF3B3977|     Power Pill Fist|     Chuckanut Drive|   0.566|138.387|                  []|        2008|\n",
      "|SOLVXJJ12AB0181253|               Asure|             Ugly MF|  -1.026| 99.886|                  []|           0|\n",
      "|SOESTLC12A58A767BC|           The Roots|         100% Dundee|  -1.031|183.486|                  []|           0|\n",
      "|SOFQRSV12A8C1358A9|        Fall Out Boy|            Thriller|  -1.217|178.518|['pop rock', 'pop...|        2007|\n",
      "|SOPNFTX12A67020455|Red Hot Chili Pep...|Get On Top (Album...|  -1.479| 76.986|['alternative roc...|        1999|\n",
      "|SOTGMEB12A8C13B4CC|           Belphegor|The Sukkubus Lust...|  -1.493|120.026|['blackened death...|        2008|\n",
      "|SOPYPCN12A58A7A856|       Uphill Battle|         Thresh Hold|  -1.545|108.252|                  []|        2004|\n",
      "|SOSIVYG12A6D4F93A9|              G-Unit| Poppin' Them Thangs|  -1.622| 88.043|['hip hop rnb and...|        2003|\n",
      "|SOTOVKU12AB018AC33|             Aphasia|\"sample processin...|  -1.651| 68.544|                  []|        2001|\n",
      "|SOYHMPJ12AAF3B387B|    Call To Preserve| Hope For The Fallen|  -1.672|158.018|                  []|        2008|\n",
      "|SOZDAFC12A8C139F6D|           2 Minutos|           2 Minutos|  -1.674|168.231|                  []|        2006|\n",
      "|SOMYIFM12AAF3B5E69|           Eko Fresh|          Hart(z) IV|  -1.714| 86.928|          ['german']|           0|\n",
      "|SODNJFJ12AB0185841|                Dino|            Untitled|  -1.723|103.807|                  []|           0|\n",
      "|SOAYOFO12AF72A4B88|      Jennifer Lopez|                Play|   -1.81|104.796|   ['pop and chart']|        2001|\n",
      "|SOCWKZV12AB018A943|               Goose|           Everybody|  -1.814|130.052|                  []|        2006|\n",
      "|SOPHSDJ12AB018A970|DJ Rashad featuri...|     Hood Figga Juke|  -1.827|154.995|                  []|           0|\n",
      "|SOGOFSR12A8C13CE47|       Yuppie Pricks| Prick For President|   -1.83|106.662|                  []|           0|\n",
      "|SOLKTEK12AB018BE1A|             Tantric|           Walk Away|  -1.843|106.698|                  []|        2009|\n",
      "|SOSCQEX12A6D4F965A|Long Beach Dub Al...|           Free Love|  -1.869|150.573|                  []|        2001|\n",
      "|SOIPNSZ12A8C144128|            Schizoid|Grim Prospects (V...|  -1.925| 86.091|                  []|           0|\n",
      "+------------------+--------------------+--------------------+--------+-------+--------------------+------------+\n",
      "only showing top 20 rows\n",
      "\n"
     ]
    }
   ],
   "source": [
    "df.registerTempTable(\"songs\")\n",
    "\n",
    "start_time_query = time.clock()\n",
    "spark_session.sql(\"select * from songs order by loudness desc\").show()\n",
    "end_time_query = time.clock()\n",
    "run_time_query = end_time_query - start_time_query"
   ]
  },
  {
   "cell_type": "code",
   "execution_count": 6,
   "metadata": {},
   "outputs": [
    {
     "name": "stdout",
     "output_type": "stream",
     "text": [
      "0.003976000000000202\n"
     ]
    }
   ],
   "source": [
    "print(run_time_query)"
   ]
  }
 ],
 "metadata": {
  "kernelspec": {
   "display_name": "Python 3",
   "language": "python",
   "name": "python3"
  },
  "language_info": {
   "codemirror_mode": {
    "name": "ipython",
    "version": 3
   },
   "file_extension": ".py",
   "mimetype": "text/x-python",
   "name": "python",
   "nbconvert_exporter": "python",
   "pygments_lexer": "ipython3",
   "version": "3.6.5"
  }
 },
 "nbformat": 4,
 "nbformat_minor": 2
}
